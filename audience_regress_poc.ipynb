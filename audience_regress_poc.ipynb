{
 "cells": [
  {
   "cell_type": "markdown",
   "metadata": {},
   "source": [
    "# Predicting audience at a hockey game\n",
    "\n",
    "csv-file data:\n",
    "`Spectators, Year, Month, Weekday, Date, Timevalue, Time, Won, Score, Homegame, Opponent, Winstreak, Wins/losses`\n",
    "\n",
    "Game used for prediction (real spectator count was 4470)\n",
    "https://liiga.fi/fi/ottelut/2019-2020/runkosarja/114/tilastot/"
   ]
  },
  {
   "cell_type": "code",
   "execution_count": 1,
   "metadata": {},
   "outputs": [
    {
     "name": "stdout",
     "output_type": "stream",
     "text": [
      "Arvioitu yleisömäärä: 4389\n"
     ]
    }
   ],
   "source": [
    "import numpy as np\n",
    "from pandas import DataFrame\n",
    "from sklearn import linear_model\n",
    "\n",
    "dat = np.loadtxt(\"karppadatasimple.csv\", delimiter=\",\", skiprows=1)\n",
    "\n",
    "df = DataFrame(dat, columns=[\"Spectators\",\"Year\",\"Month\",\"Weekday\",\"Timevalue\",\n",
    "                             \"Won\",\"Homegame\",\"Opponent\",\"Winstreak\",\"Wins/losses\"])\n",
    "\n",
    "X = df[[\"Year\", \"Month\", \"Weekday\", \"Timevalue\", \"Homegame\", \"Opponent\", \"Winstreak\", \"Wins/losses\"]]\n",
    "Y = df[\"Spectators\"]\n",
    "\n",
    "regr = linear_model.LinearRegression()\n",
    "regr.fit(X, Y)\n",
    "\n",
    "# All teams in Liiga\n",
    "#0 = \"Saipa\"\n",
    "#1 = \"Jyp\"\n",
    "#2 = \"Hpk\"\n",
    "#3 = \"Pelicans\"\n",
    "#4 = \"Blues\"\n",
    "#5 = \"Jokerit\"\n",
    "#6 = \"Kalpa\"\n",
    "#7 = \"Ässät\"\n",
    "#8 = \"Tappara\"\n",
    "#9 = \"Tps\"\n",
    "#10 = \"Ilves\"\n",
    "#11 = \"Hifk\"\n",
    "#12 = \"Lukko\"\n",
    "#13 = \"Sport\"\n",
    "#14 = \"KooKoo\"\n",
    "#15 = \"Jukurit\"\n",
    "\n",
    "# Year used in prediction\n",
    "newYear = 19\n",
    "\n",
    "# Month used in prediction\n",
    "newMonth = 10\n",
    "\n",
    "# Game weekday (5 = saturday)\n",
    "newWkday = 5\n",
    "\n",
    "# Game time value\n",
    "# (0, 1, 2 = time < 15:00, 15:00 < time < 18:00, 18:00 > time)\n",
    "# game to predict starts at 17:00, so value is 1\n",
    "newTimevalue = 1\n",
    "\n",
    "# is the game homegame for kärpät\n",
    "newHomegame = 0\n",
    "\n",
    "# Opponent (HPK)\n",
    "newOpponent = 2\n",
    "\n",
    "# Win streak for Kärpät going into the game\n",
    "newWinstreak = 3\n",
    "\n",
    "# Season's Win/lose total\n",
    "newWL = 11\n",
    "\n",
    "\n",
    "predicted_audience = regr.predict([[newYear, newMonth, newWkday, newTimevalue, newHomegame, newOpponent,\n",
    "                                       newWinstreak, newWL]])\n",
    "\n",
    "print ('Arvioitu yleisömäärä:', int(predicted_audience))\n"
   ]
  },
  {
   "cell_type": "code",
   "execution_count": null,
   "metadata": {},
   "outputs": [],
   "source": []
  }
 ],
 "metadata": {
  "kernelspec": {
   "display_name": "Python 3",
   "language": "python",
   "name": "python3"
  },
  "language_info": {
   "codemirror_mode": {
    "name": "ipython",
    "version": 3
   },
   "file_extension": ".py",
   "mimetype": "text/x-python",
   "name": "python",
   "nbconvert_exporter": "python",
   "pygments_lexer": "ipython3",
   "version": "3.6.9"
  }
 },
 "nbformat": 4,
 "nbformat_minor": 2
}
